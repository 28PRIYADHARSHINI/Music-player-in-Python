{
 "cells": [
  {
   "cell_type": "code",
   "execution_count": 2,
   "id": "fd1128b6",
   "metadata": {},
   "outputs": [
    {
     "name": "stdout",
     "output_type": "stream",
     "text": [
      "pygame 2.5.0 (SDL 2.28.0, Python 3.8.8)\n",
      "Hello from the pygame community. https://www.pygame.org/contribute.html\n"
     ]
    }
   ],
   "source": [
    "import pygame\n",
    "import ipywidgets as widgets\n",
    "from IPython.display import display"
   ]
  },
  {
   "cell_type": "code",
   "execution_count": 3,
   "id": "94b8277c",
   "metadata": {},
   "outputs": [],
   "source": [
    "# Create the buttons\n",
    "play_button = widgets.Button(description='Play')\n",
    "pause_button = widgets.Button(description='Pause')\n",
    "stop_button = widgets.Button(description='Stop')\n",
    "previous_button = widgets.Button(description='Previous')\n",
    "next_button = widgets.Button(description='Next')"
   ]
  },
  {
   "cell_type": "code",
   "execution_count": 13,
   "id": "45c04d60",
   "metadata": {},
   "outputs": [],
   "source": [
    "# Create a playlist of song file paths\n",
    "playlist = [\n",
    "    r'C:\\Users\\Admin\\Downloads\\En-Rojaa-Neeye-MassTamilan.dev.mp3',\n",
    "    r'C:\\Users\\Admin\\Downloads\\Urugi Urugi Joe 128 Kbps.mp3',\n",
    "    \n",
    "    # Add more song paths as needed\n",
    "]"
   ]
  },
  {
   "cell_type": "code",
   "execution_count": 14,
   "id": "cfb33bc7",
   "metadata": {},
   "outputs": [],
   "source": [
    "# Index of the current song in the playlist\n",
    "current_song_index = 0"
   ]
  },
  {
   "cell_type": "code",
   "execution_count": 15,
   "id": "9015697f",
   "metadata": {},
   "outputs": [],
   "source": [
    "# Function to load and play music\n",
    "def load_and_play_music(file_path):\n",
    "    pygame.mixer.init()\n",
    "    pygame.mixer.music.load(file_path)\n",
    "    pygame.mixer.music.play()\n"
   ]
  },
  {
   "cell_type": "code",
   "execution_count": 16,
   "id": "ba64ecdb",
   "metadata": {},
   "outputs": [],
   "source": [
    "# Function to play the next song\n",
    "def play_next_song(_):\n",
    "    global current_song_index\n",
    "    current_song_index = (current_song_index + 1) % len(playlist)  # Move to the next song\n",
    "    next_song_file_path = playlist[current_song_index]\n",
    "    load_and_play_music(next_song_file_path)"
   ]
  },
  {
   "cell_type": "code",
   "execution_count": 17,
   "id": "d0e9f014",
   "metadata": {},
   "outputs": [],
   "source": [
    "# Function to play the previous song\n",
    "def play_previous_song(_):\n",
    "    global current_song_index\n",
    "    current_song_index = (current_song_index - 1) % len(playlist)  # Move to the previous song\n",
    "    previous_song_file_path = playlist[current_song_index]\n",
    "    load_and_play_music(previous_song_file_path)"
   ]
  },
  {
   "cell_type": "code",
   "execution_count": 18,
   "id": "6881a6fc",
   "metadata": {},
   "outputs": [],
   "source": [
    "# Event handlers for the buttons\n",
    "def play_music(_):\n",
    "    pygame.mixer.music.unpause()\n",
    "\n",
    "def pause_music(_):\n",
    "    pygame.mixer.music.pause()\n",
    "\n",
    "def stop_music(_):\n",
    "    pygame.mixer.music.stop()\n"
   ]
  },
  {
   "cell_type": "code",
   "execution_count": 19,
   "id": "029cd0a5",
   "metadata": {},
   "outputs": [],
   "source": [
    "# Assign event handlers to the buttons\n",
    "play_button.on_click(play_music)\n",
    "pause_button.on_click(pause_music)\n",
    "stop_button.on_click(stop_music)\n",
    "previous_button.on_click(play_previous_song)\n",
    "next_button.on_click(play_next_song)\n"
   ]
  },
  {
   "cell_type": "code",
   "execution_count": 20,
   "id": "0b4ab71a",
   "metadata": {},
   "outputs": [
    {
     "data": {
      "application/vnd.jupyter.widget-view+json": {
       "model_id": "f554a1a4bb1b4a6fab058e18943608eb",
       "version_major": 2,
       "version_minor": 0
      },
      "text/plain": [
       "HBox(children=(Button(description='Previous', style=ButtonStyle()), Button(description='Play', style=ButtonSty…"
      ]
     },
     "metadata": {},
     "output_type": "display_data"
    }
   ],
   "source": [
    "# Display the buttons\n",
    "display(widgets.HBox([previous_button, play_button, pause_button, stop_button, next_button]))"
   ]
  },
  {
   "cell_type": "code",
   "execution_count": 22,
   "id": "337393d6",
   "metadata": {},
   "outputs": [],
   "source": [
    "# Load and play the initial song\n",
    "initial_song_file_path = playlist[current_song_index]\n",
    "load_and_play_music(initial_song_file_path)"
   ]
  },
  {
   "cell_type": "code",
   "execution_count": null,
   "id": "acaff521",
   "metadata": {},
   "outputs": [],
   "source": []
  }
 ],
 "metadata": {
  "kernelspec": {
   "display_name": "Python 3",
   "language": "python",
   "name": "python3"
  },
  "language_info": {
   "codemirror_mode": {
    "name": "ipython",
    "version": 3
   },
   "file_extension": ".py",
   "mimetype": "text/x-python",
   "name": "python",
   "nbconvert_exporter": "python",
   "pygments_lexer": "ipython3",
   "version": "3.8.8"
  }
 },
 "nbformat": 4,
 "nbformat_minor": 5
}
